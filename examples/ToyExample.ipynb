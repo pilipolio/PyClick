{
 "cells": [
  {
   "cell_type": "code",
   "execution_count": 1,
   "metadata": {
    "collapsed": false
   },
   "outputs": [],
   "source": [
    "import sys\n",
    "\n",
    "sys.path += ['..']"
   ]
  },
  {
   "cell_type": "code",
   "execution_count": 6,
   "metadata": {
    "collapsed": false
   },
   "outputs": [
    {
     "data": {
      "text/plain": [
       "{\"query\": \"PAGE_VIEW_ID\", \"web_results\": [{\"click\": 0, \"id\": \"CONTENT_ID\"}, {\"click\": 1, \"id\": \"ANOTHER_CONTENT_ID\"}]}"
      ]
     },
     "execution_count": 6,
     "metadata": {},
     "output_type": "execute_result"
    }
   ],
   "source": [
    "from pyclick.search_session import SearchResult, SearchSession \n",
    "\n",
    "session = SearchSession(query='PAGE_VIEW_ID', web_results=[SearchResult('CONTENT_ID', 0), SearchResult('ANOTHER_CONTENT_ID', 1)])\n",
    "\n",
    "session"
   ]
  },
  {
   "cell_type": "code",
   "execution_count": 13,
   "metadata": {
    "collapsed": false
   },
   "outputs": [
    {
     "data": {
      "text/plain": [
       "CTRParamNames.ctr\n",
       "0.5000\n"
      ]
     },
     "execution_count": 13,
     "metadata": {},
     "output_type": "execute_result"
    }
   ],
   "source": [
    "from pyclick.click_models import GCTR, RCTR\n",
    "\n",
    "model = GCTR()\n",
    "model.train(search_sessions=[session])\n",
    "\n",
    "model"
   ]
  },
  {
   "cell_type": "code",
   "execution_count": 14,
   "metadata": {
    "collapsed": false
   },
   "outputs": [
    {
     "data": {
      "text/plain": [
       "CTRParamNames.ctr\n",
       "0.3333 0.6667 0.5000 0.5000 0.5000 0.5000 0.5000 0.5000 0.5000 0.5000\n"
      ]
     },
     "execution_count": 14,
     "metadata": {},
     "output_type": "execute_result"
    }
   ],
   "source": [
    "model = RCTR()\n",
    "model.train(search_sessions=[session])\n",
    "model"
   ]
  }
 ],
 "metadata": {
  "kernelspec": {
   "display_name": "Python 3",
   "language": "python",
   "name": "python3"
  },
  "language_info": {
   "codemirror_mode": {
    "name": "ipython",
    "version": 3
   },
   "file_extension": ".py",
   "mimetype": "text/x-python",
   "name": "python",
   "nbconvert_exporter": "python",
   "pygments_lexer": "ipython3",
   "version": "3.6.0"
  }
 },
 "nbformat": 4,
 "nbformat_minor": 2
}
